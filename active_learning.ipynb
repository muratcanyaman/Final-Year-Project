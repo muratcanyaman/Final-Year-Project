{
 "cells": [
  {
   "cell_type": "code",
   "execution_count": 1,
   "id": "5aff803a",
   "metadata": {},
   "outputs": [],
   "source": [
    "# 1. Kütüphane importları\n",
    "import numpy as np\n",
    "import pandas as pd\n",
    "import matplotlib.pyplot as plt\n",
    "import seaborn as sns\n",
    "from sklearn.feature_extraction.text import TfidfVectorizer\n",
    "from sklearn.ensemble import RandomForestClassifier\n",
    "from sklearn.multioutput import MultiOutputClassifier\n",
    "from sklearn.model_selection import train_test_split\n",
    "from sklearn.metrics import precision_recall_fscore_support, hamming_loss, f1_score\n",
    "import time\n",
    "import warnings\n",
    "import joblib\n",
    "from multiprocessing import cpu_count\n",
    "from joblib import Parallel, delayed, parallel_backend\n",
    "from tqdm import tqdm\n",
    "import os"
   ]
  },
  {
   "cell_type": "code",
   "execution_count": 2,
   "id": "79794d06",
   "metadata": {},
   "outputs": [],
   "source": [
    "# Sonuçların kaydedileceği dizini oluştur\n",
    "output_dir = \"C:\\\\Users\\\\DangerClose\\\\Desktop\\\\Stack Overflow Q&A\\\\active_learning_results\"\n",
    "if not os.path.exists(output_dir):\n",
    "    os.makedirs(output_dir)"
   ]
  },
  {
   "cell_type": "code",
   "execution_count": 3,
   "id": "e9496e44",
   "metadata": {},
   "outputs": [],
   "source": [
    "# Model dizinini oluştur\n",
    "models_dir = os.path.join(output_dir, \"models\")\n",
    "if not os.path.exists(models_dir):\n",
    "    os.makedirs(models_dir)\n"
   ]
  },
  {
   "cell_type": "code",
   "execution_count": 4,
   "id": "6cdaaad6",
   "metadata": {},
   "outputs": [],
   "source": [
    "# Görseller dizinini oluştur\n",
    "images_dir = os.path.join(output_dir, \"images\")\n",
    "if not os.path.exists(images_dir):\n",
    "    os.makedirs(images_dir)"
   ]
  },
  {
   "cell_type": "code",
   "execution_count": 5,
   "id": "9ecda0b0",
   "metadata": {},
   "outputs": [],
   "source": [
    "# Tüm uyarıları bastır\n",
    "warnings.filterwarnings(\"ignore\")"
   ]
  },
  {
   "cell_type": "code",
   "execution_count": 6,
   "id": "acf55c85",
   "metadata": {},
   "outputs": [
    {
     "name": "stdout",
     "output_type": "stream",
     "text": [
      "Kullanılabilir CPU çekirdek sayısı: 12\n"
     ]
    }
   ],
   "source": [
    "# Mevcut CPU çekirdek sayısını al\n",
    "n_cores = cpu_count()\n",
    "print(f\"Kullanılabilir CPU çekirdek sayısı: {n_cores}\")"
   ]
  },
  {
   "cell_type": "code",
   "execution_count": 7,
   "id": "db501edf",
   "metadata": {},
   "outputs": [
    {
     "name": "stdout",
     "output_type": "stream",
     "text": [
      "1. İşlenmiş veri yükleniyor...\n",
      "Veri yüklendi. Toplam örnek sayısı: 20000\n"
     ]
    }
   ],
   "source": [
    "# 1. Ön işlenmiş veriyi yükle\n",
    "print(\"1. İşlenmiş veri yükleniyor...\")\n",
    "data_path = \"C:\\\\Users\\\\DangerClose\\\\Desktop\\\\Stack Overflow Q&A\\\\model_ready_sample.csv\"\n",
    "data = pd.read_csv(data_path)\n",
    "print(f\"Veri yüklendi. Toplam örnek sayısı: {data.shape[0]}\")"
   ]
  },
  {
   "cell_type": "code",
   "execution_count": 8,
   "id": "dd87af04",
   "metadata": {},
   "outputs": [
    {
     "name": "stdout",
     "output_type": "stream",
     "text": [
      "\n",
      "2. Etiketsiz sorular filtreleniyor...\n",
      "Etiketli sorular: 13595 (67.97%)\n",
      "\n",
      "3. Etiket dağılımı analiz ediliyor...\n"
     ]
    }
   ],
   "source": [
    "# 2. Etiketli ve etiketsiz verileri belirle\n",
    "print(\"\\n2. Etiketsiz sorular filtreleniyor...\")\n",
    "tag_columns = [col for col in data.columns if col.startswith('tag_')]\n",
    "data_with_tags = data[data[tag_columns].sum(axis=1) > 0]\n",
    "print(f\"Etiketli sorular: {len(data_with_tags)} ({len(data_with_tags)/len(data)*100:.2f}%)\")\n",
    "\n",
    "# Etiket dağılımını görselleştir\n",
    "print(\"\\n3. Etiket dağılımı analiz ediliyor...\")\n",
    "tag_counts = data_with_tags[tag_columns].sum().sort_values(ascending=False)\n",
    "top_tags = tag_counts.head(20)\n",
    "\n",
    "plt.figure(figsize=(12, 8))\n",
    "sns.barplot(x=top_tags.values, y=top_tags.index)\n",
    "plt.title('En Sık Kullanılan 20 Etiket')\n",
    "plt.xlabel('Soru Sayısı')\n",
    "plt.ylabel('Etiketler')\n",
    "plt.tight_layout()\n",
    "plt.savefig(os.path.join(images_dir, 'top_tags_distribution.png'))\n",
    "plt.close()"
   ]
  },
  {
   "cell_type": "code",
   "execution_count": 9,
   "id": "9997cc3a",
   "metadata": {},
   "outputs": [
    {
     "name": "stdout",
     "output_type": "stream",
     "text": [
      "\n",
      "4. Veri seti hazırlanıyor...\n",
      "Eğitim seti: 10876 örnek\n",
      "Test seti: 2719 örnek\n"
     ]
    }
   ],
   "source": [
    "# 3. Veriyi hazırla\n",
    "print(\"\\n4. Veri seti hazırlanıyor...\")\n",
    "X_text = data_with_tags['complete_text']  # Ana metin özelliği\n",
    "y = data_with_tags[tag_columns].values\n",
    "\n",
    "# Eğitim ve test setlerine ayır\n",
    "X_train_text, X_test_text, y_train, y_test = train_test_split(\n",
    "    X_text, y, test_size=0.2, random_state=42, \n",
    "    stratify=data_with_tags[tag_columns].sum(axis=1) > 1\n",
    ")\n",
    "print(f\"Eğitim seti: {X_train_text.shape[0]} örnek\")\n",
    "print(f\"Test seti: {X_test_text.shape[0]} örnek\")\n"
   ]
  },
  {
   "cell_type": "code",
   "execution_count": 10,
   "id": "dd8f19ca",
   "metadata": {},
   "outputs": [
    {
     "name": "stdout",
     "output_type": "stream",
     "text": [
      "\n",
      "5. Metin vektörleştirme (TF-IDF)...\n",
      "Özellik sayısı: 15000\n",
      "Vektörleştirilmiş verileri diske kaydediyorum...\n",
      "Vektörleştirilmiş veriler başarıyla kaydedildi.\n"
     ]
    }
   ],
   "source": [
    "# 4. TF-IDF vektörleştirme (paralelleştirme ile)\n",
    "print(\"\\n5. Metin vektörleştirme (TF-IDF)...\")\n",
    "tfidf_vectorizer = TfidfVectorizer(\n",
    "    max_features=15000,\n",
    "    min_df=3,\n",
    "    max_df=0.85,\n",
    "    ngram_range=(1, 2),\n",
    "    sublinear_tf=True,\n",
    "    stop_words='english'\n",
    ")\n",
    "\n",
    "# Vektörleştirme işlemlerini paralelleştirme\n",
    "with parallel_backend('threading', n_jobs=n_cores):\n",
    "    X_train_tfidf = tfidf_vectorizer.fit_transform(X_train_text)\n",
    "    X_test_tfidf = tfidf_vectorizer.transform(X_test_text)\n",
    "\n",
    "print(f\"Özellik sayısı: {X_train_tfidf.shape[1]}\")\n",
    "\n",
    "# TF-IDF özelliklerini görselleştir\n",
    "feature_names = tfidf_vectorizer.get_feature_names_out()\n",
    "tfidf_sorting = np.argsort(tfidf_vectorizer.idf_)[::-1]\n",
    "top_features = [feature_names[i] for i in tfidf_sorting[:20]]\n",
    "top_idf_scores = [tfidf_vectorizer.idf_[i] for i in tfidf_sorting[:20]]\n",
    "\n",
    "plt.figure(figsize=(12, 8))\n",
    "sns.barplot(x=top_idf_scores, y=top_features)\n",
    "plt.title('En Yüksek TF-IDF Skoru Olan 20 Özellik')\n",
    "plt.xlabel('TF-IDF Skoru')\n",
    "plt.ylabel('Özellikler')\n",
    "plt.tight_layout()\n",
    "plt.savefig(os.path.join(images_dir, 'top_tfidf_features.png'))\n",
    "plt.close()\n",
    "\n",
    "# Ara sonuçları kaydet (hesaplamaları tekrarlamayı önlemek için)\n",
    "print(\"Vektörleştirilmiş verileri diske kaydediyorum...\")\n",
    "joblib.dump(X_train_tfidf, os.path.join(models_dir, 'X_train_tfidf.joblib'))\n",
    "joblib.dump(X_test_tfidf, os.path.join(models_dir, 'X_test_tfidf.joblib'))\n",
    "joblib.dump(y_train, os.path.join(models_dir, 'y_train.joblib'))\n",
    "joblib.dump(y_test, os.path.join(models_dir, 'y_test.joblib'))\n",
    "print(\"Vektörleştirilmiş veriler başarıyla kaydedildi.\")"
   ]
  },
  {
   "cell_type": "code",
   "execution_count": 11,
   "id": "d5f2f3e4",
   "metadata": {},
   "outputs": [
    {
     "name": "stdout",
     "output_type": "stream",
     "text": [
      "\n",
      "6. Başlangıç veri seti oluşturuluyor...\n",
      "Başlangıç seti: 2000 örnek (1000 az etiketli, 1000 çok etiketli)\n",
      "Havuz boyutu: 8876 örnek\n"
     ]
    }
   ],
   "source": [
    "# 5. Aktif öğrenme için eğitim setinden başlangıç ve havuz verileri oluştur\n",
    "n_initial = 2000  # Başlangıçta kullanılacak etiketli örnek sayısı\n",
    "\n",
    "# Stratifiye başlangıç örnek seçimi (paralel işleme ile)\n",
    "print(\"\\n6. Başlangıç veri seti oluşturuluyor...\")\n",
    "etiket_sayilari = y_train.sum(axis=1)\n",
    "az_etiketli = np.where(etiket_sayilari == 1)[0]\n",
    "cok_etiketli = np.where(etiket_sayilari > 1)[0]\n",
    "\n",
    "# Az etiketli ve çok etiketli örnekleri dengeli şekilde seçelim\n",
    "n_az_etiketli = min(len(az_etiketli), n_initial // 2)\n",
    "n_cok_etiketli = min(len(cok_etiketli), n_initial - n_az_etiketli)\n",
    "\n",
    "# İndeksleri belirle\n",
    "np.random.seed(42)  # Tekrarlanabilirlik için\n",
    "initial_idx_az = np.random.choice(az_etiketli, size=n_az_etiketli, replace=False)\n",
    "initial_idx_cok = np.random.choice(cok_etiketli, size=n_cok_etiketli, replace=False)\n",
    "initial_idx = np.concatenate([initial_idx_az, initial_idx_cok])\n",
    "\n",
    "# Başlangıç verileri\n",
    "X_initial = X_train_tfidf[initial_idx]\n",
    "y_initial = y_train[initial_idx]\n",
    "\n",
    "# Havuz için geriye kalan örnekleri ayır\n",
    "pool_idx = np.setdiff1d(range(X_train_tfidf.shape[0]), initial_idx)\n",
    "X_pool = X_train_tfidf[pool_idx]\n",
    "y_pool = y_train[pool_idx]\n",
    "\n",
    "print(f\"Başlangıç seti: {len(initial_idx)} örnek ({n_az_etiketli} az etiketli, {n_cok_etiketli} çok etiketli)\")\n",
    "print(f\"Havuz boyutu: {len(pool_idx)} örnek\")"
   ]
  },
  {
   "cell_type": "code",
   "execution_count": 12,
   "id": "4ce0d892",
   "metadata": {},
   "outputs": [
    {
     "name": "stdout",
     "output_type": "stream",
     "text": [
      "\n",
      "7. RandomForest modeli yapılandırılıyor...\n"
     ]
    }
   ],
   "source": [
    "# 6. Base classifier tanımla (tüm çekirdekleri kullanarak)\n",
    "print(\"\\n7. RandomForest modeli yapılandırılıyor...\")\n",
    "base_classifier = RandomForestClassifier(\n",
    "    n_estimators=100,\n",
    "    max_depth=15,\n",
    "    min_samples_split=10,\n",
    "    min_samples_leaf=5,\n",
    "    max_features='sqrt',\n",
    "    bootstrap=True,\n",
    "    class_weight='balanced_subsample',\n",
    "    n_jobs=-1,  # Tüm çekirdekleri kullan\n",
    "    verbose=0,  # Gereksiz çıktıları engelle\n",
    "    random_state=42\n",
    ")\n",
    "\n",
    "# MultiOutputClassifier oluştur\n",
    "multi_classifier = MultiOutputClassifier(base_classifier, n_jobs=-1)"
   ]
  },
  {
   "cell_type": "code",
   "execution_count": 13,
   "id": "998bbe5e",
   "metadata": {},
   "outputs": [],
   "source": [
    "# 7. Entropi tabanlı çok etiketli belirsizlik örneklemesi (paralelleştirilmiş)\n",
    "def compute_entropy_for_label(proba):\n",
    "    \"\"\"Tek bir etiket için entropi hesapla\"\"\"\n",
    "    return -np.sum(proba * np.log2(np.clip(proba, 1e-10, 1.0)), axis=1)\n",
    "\n",
    "def entropy_based_sampling(model, X_pool, n_instances=10):\n",
    "    \"\"\"\n",
    "    Entropi tabanlı belirsizlik örneklemesi - paralelleştirilmiş versiyon.\n",
    "    \"\"\"\n",
    "    # Modeli kullanarak olasılıkları hesapla\n",
    "    probas = []\n",
    "    \n",
    "    # Paralel olarak her etiket için olasılıkları hesapla\n",
    "    with parallel_backend('threading', n_jobs=n_cores):\n",
    "        for estimator in model.estimators_:\n",
    "            proba = estimator.predict_proba(X_pool)\n",
    "            probas.append(proba)\n",
    "    \n",
    "    # Paralel olarak entropi hesapla\n",
    "    with parallel_backend('threading', n_jobs=n_cores):\n",
    "        entropies = Parallel(n_jobs=n_cores)(\n",
    "            delayed(compute_entropy_for_label)(probas[i]) \n",
    "            for i in range(len(probas))\n",
    "        )\n",
    "    \n",
    "    # Tüm etiketlerin entropilerini topla\n",
    "    total_entropy = np.sum(entropies, axis=0)\n",
    "    \n",
    "    # En yüksek entropiye sahip örnekleri seç\n",
    "    top_indices = np.argsort(total_entropy)[-n_instances:]\n",
    "    \n",
    "    return top_indices"
   ]
  },
  {
   "cell_type": "code",
   "execution_count": 14,
   "id": "6d4bc13d",
   "metadata": {},
   "outputs": [
    {
     "name": "stdout",
     "output_type": "stream",
     "text": [
      "\n",
      "8. Modeller ön-eğitiliyor...\n",
      "Ön-eğitimli modeller başarıyla kaydedildi.\n"
     ]
    }
   ],
   "source": [
    "# 8. Modelleri ön-eğit ve ara sonuçları kaydet\n",
    "print(\"\\n8. Modeller ön-eğitiliyor...\")\n",
    "\n",
    "# Dense matrise dönüştür (bazı işlemleri hızlandırmak için)\n",
    "X_initial_array = X_initial.toarray()\n",
    "\n",
    "# Modelleri paralel olarak eğit\n",
    "with parallel_backend('threading', n_jobs=n_cores):\n",
    "    model = multi_classifier.fit(X_initial_array, y_initial)\n",
    "    random_model = MultiOutputClassifier(base_classifier, n_jobs=-1).fit(X_initial_array, y_initial)\n",
    "\n",
    "# Ara sonuçları kaydet\n",
    "joblib.dump(model, os.path.join(models_dir, 'initial_active_model.joblib'))\n",
    "joblib.dump(random_model, os.path.join(models_dir, 'initial_random_model.joblib'))\n",
    "print(\"Ön-eğitimli modeller başarıyla kaydedildi.\")\n"
   ]
  },
  {
   "cell_type": "code",
   "execution_count": 15,
   "id": "90df6c6f",
   "metadata": {},
   "outputs": [
    {
     "name": "stdout",
     "output_type": "stream",
     "text": [
      "\n",
      "9. Aktif öğrenme döngüsü başlatılıyor...\n",
      "Başlangıç F1 skoru (Aktif): 0.5765\n",
      "Başlangıç F1 skoru (Rastgele): 0.5765\n",
      "Başlangıç Hamming Loss (Aktif): 0.0523\n",
      "Başlangıç Hamming Loss (Rastgele): 0.0523\n"
     ]
    },
    {
     "name": "stderr",
     "output_type": "stream",
     "text": [
      "  7%|▋         | 1/15 [00:47<11:04, 47.47s/it]"
     ]
    },
    {
     "name": "stdout",
     "output_type": "stream",
     "text": [
      "Tur 1/15:\n",
      "  Aktif Öğrenme F1: 0.5864\n",
      "  Rastgele Örnekleme F1: 0.5821\n",
      "  Fark: 0.0042\n",
      "  Aktif Öğrenme Hamming Loss: 0.0515\n",
      "  Rastgele Örnekleme Hamming Loss: 0.0521\n",
      "  Kalan havuz boyutu: 8676\n"
     ]
    },
    {
     "name": "stderr",
     "output_type": "stream",
     "text": [
      " 13%|█▎        | 2/15 [01:34<10:13, 47.18s/it]"
     ]
    },
    {
     "name": "stdout",
     "output_type": "stream",
     "text": [
      "Tur 2/15:\n",
      "  Aktif Öğrenme F1: 0.5932\n",
      "  Rastgele Örnekleme F1: 0.5955\n",
      "  Fark: -0.0024\n",
      "  Aktif Öğrenme Hamming Loss: 0.0513\n",
      "  Rastgele Örnekleme Hamming Loss: 0.0510\n",
      "  Kalan havuz boyutu: 8477\n"
     ]
    },
    {
     "name": "stderr",
     "output_type": "stream",
     "text": [
      " 20%|██        | 3/15 [02:22<09:31, 47.65s/it]"
     ]
    },
    {
     "name": "stdout",
     "output_type": "stream",
     "text": [
      "Tur 3/15:\n",
      "  Aktif Öğrenme F1: 0.5867\n",
      "  Rastgele Örnekleme F1: 0.5964\n",
      "  Fark: -0.0098\n",
      "  Aktif Öğrenme Hamming Loss: 0.0521\n",
      "  Rastgele Örnekleme Hamming Loss: 0.0502\n",
      "  Kalan havuz boyutu: 8279\n"
     ]
    },
    {
     "name": "stderr",
     "output_type": "stream",
     "text": [
      " 27%|██▋       | 4/15 [03:12<08:55, 48.69s/it]"
     ]
    },
    {
     "name": "stdout",
     "output_type": "stream",
     "text": [
      "Tur 4/15:\n",
      "  Aktif Öğrenme F1: 0.5870\n",
      "  Rastgele Örnekleme F1: 0.6115\n",
      "  Fark: -0.0245\n",
      "  Aktif Öğrenme Hamming Loss: 0.0526\n",
      "  Rastgele Örnekleme Hamming Loss: 0.0488\n",
      "  Kalan havuz boyutu: 8079\n",
      "Tur 5/15:\n",
      "  Aktif Öğrenme F1: 0.6001\n",
      "  Rastgele Örnekleme F1: 0.6103\n",
      "  Fark: -0.0102\n",
      "  Aktif Öğrenme Hamming Loss: 0.0513\n",
      "  Rastgele Örnekleme Hamming Loss: 0.0488\n",
      "  Kalan havuz boyutu: 7880\n",
      "  Tur 5 ara sonuçları kaydedildi.\n"
     ]
    },
    {
     "name": "stderr",
     "output_type": "stream",
     "text": [
      " 40%|████      | 6/15 [04:56<07:34, 50.54s/it]"
     ]
    },
    {
     "name": "stdout",
     "output_type": "stream",
     "text": [
      "Tur 6/15:\n",
      "  Aktif Öğrenme F1: 0.6090\n",
      "  Rastgele Örnekleme F1: 0.6047\n",
      "  Fark: 0.0043\n",
      "  Aktif Öğrenme Hamming Loss: 0.0504\n",
      "  Rastgele Örnekleme Hamming Loss: 0.0503\n",
      "  Kalan havuz boyutu: 7682\n"
     ]
    },
    {
     "name": "stderr",
     "output_type": "stream",
     "text": [
      " 47%|████▋     | 7/15 [05:50<06:51, 51.47s/it]"
     ]
    },
    {
     "name": "stdout",
     "output_type": "stream",
     "text": [
      "Tur 7/15:\n",
      "  Aktif Öğrenme F1: 0.6085\n",
      "  Rastgele Örnekleme F1: 0.6229\n",
      "  Fark: -0.0144\n",
      "  Aktif Öğrenme Hamming Loss: 0.0511\n",
      "  Rastgele Örnekleme Hamming Loss: 0.0481\n",
      "  Kalan havuz boyutu: 7483\n"
     ]
    },
    {
     "name": "stderr",
     "output_type": "stream",
     "text": [
      " 53%|█████▎    | 8/15 [06:45<06:09, 52.80s/it]"
     ]
    },
    {
     "name": "stdout",
     "output_type": "stream",
     "text": [
      "Tur 8/15:\n",
      "  Aktif Öğrenme F1: 0.6110\n",
      "  Rastgele Örnekleme F1: 0.6222\n",
      "  Fark: -0.0112\n",
      "  Aktif Öğrenme Hamming Loss: 0.0508\n",
      "  Rastgele Örnekleme Hamming Loss: 0.0484\n",
      "  Kalan havuz boyutu: 7285\n"
     ]
    },
    {
     "name": "stderr",
     "output_type": "stream",
     "text": [
      " 60%|██████    | 9/15 [07:43<05:25, 54.26s/it]"
     ]
    },
    {
     "name": "stdout",
     "output_type": "stream",
     "text": [
      "Tur 9/15:\n",
      "  Aktif Öğrenme F1: 0.6091\n",
      "  Rastgele Örnekleme F1: 0.6315\n",
      "  Fark: -0.0224\n",
      "  Aktif Öğrenme Hamming Loss: 0.0515\n",
      "  Rastgele Örnekleme Hamming Loss: 0.0476\n",
      "  Kalan havuz boyutu: 7086\n",
      "Tur 10/15:\n",
      "  Aktif Öğrenme F1: 0.6148\n",
      "  Rastgele Örnekleme F1: 0.6263\n",
      "  Fark: -0.0115\n",
      "  Aktif Öğrenme Hamming Loss: 0.0508\n",
      "  Rastgele Örnekleme Hamming Loss: 0.0487\n",
      "  Kalan havuz boyutu: 6886\n",
      "  Tur 10 ara sonuçları kaydedildi.\n"
     ]
    },
    {
     "name": "stderr",
     "output_type": "stream",
     "text": [
      " 73%|███████▎  | 11/15 [09:43<03:48, 57.09s/it]"
     ]
    },
    {
     "name": "stdout",
     "output_type": "stream",
     "text": [
      "Tur 11/15:\n",
      "  Aktif Öğrenme F1: 0.6220\n",
      "  Rastgele Örnekleme F1: 0.6262\n",
      "  Fark: -0.0042\n",
      "  Aktif Öğrenme Hamming Loss: 0.0503\n",
      "  Rastgele Örnekleme Hamming Loss: 0.0486\n",
      "  Kalan havuz boyutu: 6688\n"
     ]
    },
    {
     "name": "stderr",
     "output_type": "stream",
     "text": [
      " 80%|████████  | 12/15 [10:49<02:59, 59.88s/it]"
     ]
    },
    {
     "name": "stdout",
     "output_type": "stream",
     "text": [
      "Tur 12/15:\n",
      "  Aktif Öğrenme F1: 0.6230\n",
      "  Rastgele Örnekleme F1: 0.6274\n",
      "  Fark: -0.0043\n",
      "  Aktif Öğrenme Hamming Loss: 0.0501\n",
      "  Rastgele Örnekleme Hamming Loss: 0.0487\n",
      "  Kalan havuz boyutu: 6489\n"
     ]
    },
    {
     "name": "stderr",
     "output_type": "stream",
     "text": [
      " 87%|████████▋ | 13/15 [12:01<02:06, 63.38s/it]"
     ]
    },
    {
     "name": "stdout",
     "output_type": "stream",
     "text": [
      "Tur 13/15:\n",
      "  Aktif Öğrenme F1: 0.6299\n",
      "  Rastgele Örnekleme F1: 0.6233\n",
      "  Fark: 0.0066\n",
      "  Aktif Öğrenme Hamming Loss: 0.0498\n",
      "  Rastgele Örnekleme Hamming Loss: 0.0491\n",
      "  Kalan havuz boyutu: 6291\n"
     ]
    },
    {
     "name": "stderr",
     "output_type": "stream",
     "text": [
      " 93%|█████████▎| 14/15 [13:13<01:06, 66.23s/it]"
     ]
    },
    {
     "name": "stdout",
     "output_type": "stream",
     "text": [
      "Tur 14/15:\n",
      "  Aktif Öğrenme F1: 0.6310\n",
      "  Rastgele Örnekleme F1: 0.6340\n",
      "  Fark: -0.0030\n",
      "  Aktif Öğrenme Hamming Loss: 0.0495\n",
      "  Rastgele Örnekleme Hamming Loss: 0.0479\n",
      "  Kalan havuz boyutu: 6095\n",
      "Tur 15/15:\n",
      "  Aktif Öğrenme F1: 0.6417\n",
      "  Rastgele Örnekleme F1: 0.6386\n",
      "  Fark: 0.0032\n",
      "  Aktif Öğrenme Hamming Loss: 0.0488\n",
      "  Rastgele Örnekleme Hamming Loss: 0.0468\n",
      "  Kalan havuz boyutu: 5896\n",
      "  Tur 15 ara sonuçları kaydedildi.\n"
     ]
    },
    {
     "name": "stderr",
     "output_type": "stream",
     "text": [
      "100%|██████████| 15/15 [14:24<00:00, 57.60s/it]\n"
     ]
    },
    {
     "name": "stdout",
     "output_type": "stream",
     "text": [
      "Final sonuçları başarıyla kaydedildi.\n"
     ]
    }
   ],
   "source": [
    "# 9. Aktif öğrenme döngüsü\n",
    "print(\"\\n9. Aktif öğrenme döngüsü başlatılıyor...\")\n",
    "\n",
    "# Kaç tur öğrenme yapılacak ve her turda kaç örnek sorgulanacak\n",
    "n_queries = 15\n",
    "n_samples_per_query = 100\n",
    "active_performance_history = []\n",
    "random_performance_history = []\n",
    "active_hamming_history = []\n",
    "random_hamming_history = []\n",
    "times_history = {'active_train': [], 'active_predict': [], 'random_train': [], 'random_predict': []}\n",
    "\n",
    "# İlk performansları hesapla\n",
    "X_test_array = X_test_tfidf.toarray()\n",
    "\n",
    "with parallel_backend('threading', n_jobs=n_cores):\n",
    "    active_initial_preds = model.predict(X_test_array)\n",
    "    random_initial_preds = random_model.predict(X_test_array)\n",
    "    \n",
    "    active_initial_score = f1_score(y_test, active_initial_preds, average='micro')\n",
    "    random_initial_score = f1_score(y_test, random_initial_preds, average='micro')\n",
    "    \n",
    "    active_initial_hamming = hamming_loss(y_test, active_initial_preds)\n",
    "    random_initial_hamming = hamming_loss(y_test, random_initial_preds)\n",
    "\n",
    "active_performance_history.append(active_initial_score)\n",
    "random_performance_history.append(random_initial_score)\n",
    "active_hamming_history.append(active_initial_hamming)\n",
    "random_hamming_history.append(random_initial_hamming)\n",
    "\n",
    "print(f\"Başlangıç F1 skoru (Aktif): {active_initial_score:.4f}\")\n",
    "print(f\"Başlangıç F1 skoru (Rastgele): {random_initial_score:.4f}\")\n",
    "print(f\"Başlangıç Hamming Loss (Aktif): {active_initial_hamming:.4f}\")\n",
    "print(f\"Başlangıç Hamming Loss (Rastgele): {random_initial_hamming:.4f}\")\n",
    "\n",
    "# Aktif öğrenme ve rastgele örnekleme döngüleri\n",
    "X_pool_data = X_pool.toarray()\n",
    "y_pool_data = y_pool.copy()\n",
    "\n",
    "# Gereksiz yinelemeleri önlemek için ara sonuçları saklayabiliriz\n",
    "current_active_train_X = X_initial_array.copy()\n",
    "current_active_train_y = y_initial.copy()\n",
    "current_random_train_X = X_initial_array.copy()\n",
    "current_random_train_y = y_initial.copy()\n",
    "\n",
    "# Belirsizlik değerlerini de takip edelim\n",
    "uncertainty_scores = []\n",
    "\n",
    "for i in tqdm(range(n_queries)):\n",
    "    \n",
    "    # AKTIF ÖĞRENME: Entropi tabanlı örnekleme ile en bilgilendirici örnekleri seç\n",
    "    query_idxs = entropy_based_sampling(model, X_pool_data, n_instances=n_samples_per_query)\n",
    "    \n",
    "    # Seçilen örneklerin belirsizlik değerlerini kaydet\n",
    "    probas = []\n",
    "    for estimator in model.estimators_:\n",
    "        proba = estimator.predict_proba(X_pool_data[query_idxs])\n",
    "        probas.append(proba)\n",
    "        \n",
    "    entropies = []\n",
    "    for j in range(len(probas)):\n",
    "        entropies.append(compute_entropy_for_label(probas[j]))\n",
    "    \n",
    "    total_entropies = np.mean(np.sum(entropies, axis=0))\n",
    "    uncertainty_scores.append(total_entropies)\n",
    "    \n",
    "    # Seçilen örnekleri al\n",
    "    X_query = X_pool_data[query_idxs]\n",
    "    y_query = y_pool_data[query_idxs]\n",
    "    \n",
    "    # Eğitim verilerini güncelle\n",
    "    current_active_train_X = np.vstack((current_active_train_X, X_query))\n",
    "    current_active_train_y = np.vstack((current_active_train_y, y_query))\n",
    "    \n",
    "    # RASTGELE ÖRNEKLEME: Aynı sayıda rastgele örnek seç\n",
    "    random_idxs = np.random.choice(len(X_pool_data), size=n_samples_per_query, replace=False)\n",
    "    X_random = X_pool_data[random_idxs]\n",
    "    y_random = y_pool_data[random_idxs]\n",
    "    \n",
    "    # Eğitim verilerini güncelle\n",
    "    current_random_train_X = np.vstack((current_random_train_X, X_random))\n",
    "    current_random_train_y = np.vstack((current_random_train_y, y_random))\n",
    "    \n",
    "    # Modelleri paralel olarak güncelle\n",
    "    with parallel_backend('threading', n_jobs=n_cores // 2):  # Çekirdekleri bölüştür\n",
    "        # Aktif model eğitim zamanı\n",
    "        start_time = time.time()\n",
    "        model.fit(current_active_train_X, current_active_train_y)\n",
    "        times_history['active_train'].append(time.time() - start_time)\n",
    "        \n",
    "        # Rastgele model eğitim zamanı\n",
    "        start_time = time.time()\n",
    "        random_model.fit(current_random_train_X, current_random_train_y)\n",
    "        times_history['random_train'].append(time.time() - start_time)\n",
    "    \n",
    "    # Test performansını paralel olarak ölç\n",
    "    with parallel_backend('threading', n_jobs=n_cores // 2):\n",
    "        # Aktif model tahmin zamanı\n",
    "        start_time = time.time()\n",
    "        active_preds = model.predict(X_test_array)\n",
    "        times_history['active_predict'].append(time.time() - start_time)\n",
    "        \n",
    "        # Rastgele model tahmin zamanı\n",
    "        start_time = time.time()\n",
    "        random_preds = random_model.predict(X_test_array)\n",
    "        times_history['random_predict'].append(time.time() - start_time)\n",
    "        \n",
    "        # Performans metriklerini hesapla\n",
    "        active_score = f1_score(y_test, active_preds, average='micro')\n",
    "        random_score = f1_score(y_test, random_preds, average='micro')\n",
    "        active_hamming = hamming_loss(y_test, active_preds)\n",
    "        random_hamming = hamming_loss(y_test, random_preds)\n",
    "    \n",
    "    active_performance_history.append(active_score)\n",
    "    random_performance_history.append(random_score)\n",
    "    active_hamming_history.append(active_hamming)\n",
    "    random_hamming_history.append(random_hamming)\n",
    "    \n",
    "    # Havuzdan seçilen örnekleri çıkar (hem aktif hem de rastgele seçilen)\n",
    "    all_selected_idxs = np.union1d(query_idxs, random_idxs)\n",
    "    mask = np.ones(len(X_pool_data), dtype=bool)\n",
    "    mask[all_selected_idxs] = False\n",
    "    \n",
    "    # Havuzu güncelle\n",
    "    X_pool_data = X_pool_data[mask]\n",
    "    y_pool_data = y_pool_data[mask]\n",
    "    \n",
    "    # İlerlemeyi göster\n",
    "    print(f\"Tur {i+1}/{n_queries}:\")\n",
    "    print(f\"  Aktif Öğrenme F1: {active_score:.4f}\")\n",
    "    print(f\"  Rastgele Örnekleme F1: {random_score:.4f}\")\n",
    "    print(f\"  Fark: {active_score - random_score:.4f}\")\n",
    "    print(f\"  Aktif Öğrenme Hamming Loss: {active_hamming:.4f}\")\n",
    "    print(f\"  Rastgele Örnekleme Hamming Loss: {random_hamming:.4f}\")\n",
    "    print(f\"  Kalan havuz boyutu: {len(X_pool_data)}\")\n",
    "    \n",
    "    # Her 5 turda bir ara sonuçları kaydet ve görselleştir\n",
    "    if (i+1) % 5 == 0:\n",
    "        joblib.dump(active_performance_history, os.path.join(models_dir, f'active_history_tur_{i+1}.joblib'))\n",
    "        joblib.dump(random_performance_history, os.path.join(models_dir, f'random_history_tur_{i+1}.joblib'))\n",
    "        joblib.dump(model, os.path.join(models_dir, f'active_model_tur_{i+1}.joblib'))\n",
    "        joblib.dump(random_model, os.path.join(models_dir, f'random_model_tur_{i+1}.joblib'))\n",
    "        print(f\"  Tur {i+1} ara sonuçları kaydedildi.\")\n",
    "        \n",
    "        # F1 skor değişimini görselleştir\n",
    "        plt.figure(figsize=(12, 8))\n",
    "        plt.plot(range(i+2), active_performance_history, 'b-', marker='o', label='Aktif Öğrenme')\n",
    "        plt.plot(range(i+2), random_performance_history, 'r--', marker='x', label='Rastgele Örnekleme')\n",
    "        plt.xlabel('Öğrenme Turu')\n",
    "        plt.ylabel('F1 Skoru (micro)')\n",
    "        plt.title(f'Aktif Öğrenme vs. Rastgele Örnekleme Karşılaştırması - Tur {i+1}')\n",
    "        plt.legend()\n",
    "        plt.grid(True)\n",
    "        plt.savefig(os.path.join(images_dir, f'active_learning_f1_tur_{i+1}.png'))\n",
    "        plt.close()\n",
    "        \n",
    "        # Hamming Loss değişimini görselleştir\n",
    "        plt.figure(figsize=(12, 8))\n",
    "        plt.plot(range(i+2), active_hamming_history, 'b-', marker='o', label='Aktif Öğrenme')\n",
    "        plt.plot(range(i+2), random_hamming_history, 'r--', marker='x', label='Rastgele Örnekleme')\n",
    "        plt.xlabel('Öğrenme Turu')\n",
    "        plt.ylabel('Hamming Loss (daha düşük daha iyi)')\n",
    "        plt.title(f'Aktif Öğrenme vs. Rastgele Örnekleme Hamming Loss - Tur {i+1}')\n",
    "        plt.legend()\n",
    "        plt.grid(True)\n",
    "        plt.savefig(os.path.join(images_dir, f'active_learning_hamming_tur_{i+1}.png'))\n",
    "        plt.close()\n",
    "\n",
    "# Nihai sonuçları kaydet\n",
    "joblib.dump(active_performance_history, os.path.join(models_dir, 'active_performance_history.joblib'))\n",
    "joblib.dump(random_performance_history, os.path.join(models_dir, 'random_performance_history.joblib'))\n",
    "joblib.dump(active_hamming_history, os.path.join(models_dir, 'active_hamming_history.joblib'))\n",
    "joblib.dump(random_hamming_history, os.path.join(models_dir, 'random_hamming_history.joblib'))\n",
    "joblib.dump(uncertainty_scores, os.path.join(models_dir, 'uncertainty_scores.joblib'))\n",
    "joblib.dump(times_history, os.path.join(models_dir, 'times_history.joblib'))\n",
    "joblib.dump(model, os.path.join(models_dir, 'final_active_model.joblib'))\n",
    "joblib.dump(random_model, os.path.join(models_dir, 'final_random_model.joblib'))\n",
    "print(\"Final sonuçları başarıyla kaydedildi.\")\n"
   ]
  },
  {
   "cell_type": "code",
   "execution_count": 16,
   "id": "3608349c",
   "metadata": {},
   "outputs": [],
   "source": [
    "# 10. Sonuçları görselleştir\n",
    "plt.figure(figsize=(12, 8))\n",
    "plt.plot(range(n_queries + 1), active_performance_history, 'b-', marker='o', label='Aktif Öğrenme')\n",
    "plt.plot(range(n_queries + 1), random_performance_history, 'r--', marker='x', label='Rastgele Örnekleme')\n",
    "plt.xlabel('Öğrenme Turu')\n",
    "plt.ylabel('F1 Skoru (micro)')\n",
    "plt.title('Aktif Öğrenme vs. Rastgele Örnekleme F1 Skor Karşılaştırması')\n",
    "plt.legend()\n",
    "plt.grid(True)\n",
    "plt.savefig(os.path.join(images_dir, 'aktif_ogrenme_f1_karsilastirma.png'))\n",
    "plt.close()\n",
    "\n",
    "plt.figure(figsize=(12, 8))\n",
    "plt.plot(range(n_queries + 1), active_hamming_history, 'b-', marker='o', label='Aktif Öğrenme')\n",
    "plt.plot(range(n_queries + 1), random_hamming_history, 'r--', marker='x', label='Rastgele Örnekleme')\n",
    "plt.xlabel('Öğrenme Turu')\n",
    "plt.ylabel('Hamming Loss (daha düşük daha iyi)')\n",
    "plt.title('Aktif Öğrenme vs. Rastgele Örnekleme Hamming Loss Karşılaştırması')\n",
    "plt.legend()\n",
    "plt.grid(True)\n",
    "plt.savefig(os.path.join(images_dir, 'aktif_ogrenme_hamming_karsilastirma.png'))\n",
    "plt.close()\n",
    "\n",
    "# Örnek seçimindeki belirsizlik değerlerini görselleştir\n",
    "plt.figure(figsize=(12, 8))\n",
    "plt.plot(range(1, n_queries + 1), uncertainty_scores, 'm-', marker='o')\n",
    "plt.xlabel('Öğrenme Turu')\n",
    "plt.ylabel('Ortalama Entropi (Belirsizlik)')\n",
    "plt.title('Aktif Öğrenme Sürecinde Seçilen Örneklerin Belirsizlik Değerleri')\n",
    "plt.grid(True)\n",
    "plt.savefig(os.path.join(images_dir, 'aktif_ogrenme_belirsizlik.png'))\n",
    "plt.close()\n",
    "\n",
    "# Eğitim ve tahmin sürelerini görselleştir\n",
    "plt.figure(figsize=(15, 10))\n",
    "plt.subplot(2, 1, 1)\n",
    "plt.plot(range(1, n_queries + 1), times_history['active_train'], 'b-', marker='o', label='Aktif Öğrenme')\n",
    "plt.plot(range(1, n_queries + 1), times_history['random_train'], 'r--', marker='x', label='Rastgele Örnekleme')\n",
    "plt.xlabel('Öğrenme Turu')\n",
    "plt.ylabel('Eğitim Süresi (saniye)')\n",
    "plt.title('Eğitim Süreleri Karşılaştırması')\n",
    "plt.legend()\n",
    "plt.grid(True)\n",
    "\n",
    "plt.subplot(2, 1, 2)\n",
    "plt.plot(range(1, n_queries + 1), times_history['active_predict'], 'b-', marker='o', label='Aktif Öğrenme')\n",
    "plt.plot(range(1, n_queries + 1), times_history['random_predict'], 'r--', marker='x', label='Rastgele Örnekleme')\n",
    "plt.xlabel('Öğrenme Turu')\n",
    "plt.ylabel('Tahmin Süresi (saniye)')\n",
    "plt.title('Tahmin Süreleri Karşılaştırması')\n",
    "plt.legend()\n",
    "plt.grid(True)\n",
    "plt.tight_layout()\n",
    "plt.savefig(os.path.join(images_dir, 'aktif_ogrenme_sureler.png'))\n",
    "plt.close()\n"
   ]
  },
  {
   "cell_type": "code",
   "execution_count": 17,
   "id": "fb07fca7",
   "metadata": {},
   "outputs": [
    {
     "name": "stdout",
     "output_type": "stream",
     "text": [
      "\n",
      "----- GENEL DEĞERLENDİRME -----\n",
      "Toplam eğitim seti: 10876 örnek\n",
      "Aktif öğrenmede kullanılan örnek sayısı: 3500 örnek (32.2%)\n",
      "Son F1 skoru (Aktif Öğrenme): 0.6417\n",
      "Son F1 skoru (Rastgele Örnekleme): 0.6386\n",
      "Son Hamming Loss (Aktif Öğrenme): 0.0488\n",
      "Son Hamming Loss (Rastgele Örnekleme): 0.0468\n",
      "Tam Veri ile RandomForest F1 skoru: 0.5233\n",
      "Aktif Öğrenmenin tam veriye göre performans artışı: 22.6%\n"
     ]
    }
   ],
   "source": [
    "# 11. Geleneksel RandomForest ile karşılaştır\n",
    "# Tüm eğitim setiyle eğitilmiş RandomForest'in F1 skoru (önceki çalışmadan)\n",
    "full_rf_f1 = 0.5233  # RandomForest Çok Etiketli Sınıflandırma-1.ipynb'den alınan değer\n",
    "\n",
    "# Son tur sonrası etiketli örnek sayıları\n",
    "final_active_samples = len(initial_idx) + n_queries * n_samples_per_query\n",
    "percentage_of_data = final_active_samples / len(X_train_text) * 100\n",
    "\n",
    "print(\"\\n----- GENEL DEĞERLENDİRME -----\")\n",
    "print(f\"Toplam eğitim seti: {len(X_train_text)} örnek\")\n",
    "print(f\"Aktif öğrenmede kullanılan örnek sayısı: {final_active_samples} örnek ({percentage_of_data:.1f}%)\")\n",
    "print(f\"Son F1 skoru (Aktif Öğrenme): {active_performance_history[-1]:.4f}\")\n",
    "print(f\"Son F1 skoru (Rastgele Örnekleme): {random_performance_history[-1]:.4f}\")\n",
    "print(f\"Son Hamming Loss (Aktif Öğrenme): {active_hamming_history[-1]:.4f}\")\n",
    "print(f\"Son Hamming Loss (Rastgele Örnekleme): {random_hamming_history[-1]:.4f}\")\n",
    "print(f\"Tam Veri ile RandomForest F1 skoru: {full_rf_f1:.4f}\")\n",
    "print(f\"Aktif Öğrenmenin tam veriye göre performans artışı: {(active_performance_history[-1]/full_rf_f1*100)-100:.1f}%\")"
   ]
  },
  {
   "cell_type": "code",
   "execution_count": 18,
   "id": "831ac6f0",
   "metadata": {},
   "outputs": [
    {
     "name": "stdout",
     "output_type": "stream",
     "text": [
      "\n",
      "----- GENEL DEĞERLENDİRME -----\n",
      "Toplam eğitim seti: 10876 örnek\n",
      "Aktif öğrenmede kullanılan örnek sayısı: 3500 örnek (32.2%)\n",
      "Son F1 skoru (Aktif Öğrenme): 0.6417\n",
      "Son F1 skoru (Rastgele Örnekleme): 0.6386\n",
      "Son Hamming Loss (Aktif Öğrenme): 0.0488\n",
      "Son Hamming Loss (Rastgele Örnekleme): 0.0468\n",
      "Tam Veri ile RandomForest F1 skoru: 0.5233\n",
      "Aktif Öğrenmenin tam veriye göre performans artışı: 22.6%\n",
      "\n",
      "----- ETİKET SAYISINA GÖRE PERFORMANS -----\n",
      "Tek etiketli örneklerde F1 (Aktif): 0.6123\n",
      "Tek etiketli örneklerde F1 (Rastgele): 0.6043\n",
      "Çok etiketli örneklerde F1 (Aktif): 0.6876\n",
      "Çok etiketli örneklerde F1 (Rastgele): 0.6895\n"
     ]
    }
   ],
   "source": [
    "# 11. Geleneksel RandomForest ile karşılaştır\n",
    "# Tüm eğitim setiyle eğitilmiş RandomForest'in F1 skoru (önceki çalışmadan)\n",
    "full_rf_f1 = 0.5233  # RandomForest Çok Etiketli Sınıflandırma-1.ipynb'den alınan değer\n",
    "\n",
    "# Son tur sonrası etiketli örnek sayıları\n",
    "final_active_samples = len(initial_idx) + n_queries * n_samples_per_query\n",
    "percentage_of_data = final_active_samples / len(X_train_text) * 100\n",
    "\n",
    "print(\"\\n----- GENEL DEĞERLENDİRME -----\")\n",
    "print(f\"Toplam eğitim seti: {len(X_train_text)} örnek\")\n",
    "print(f\"Aktif öğrenmede kullanılan örnek sayısı: {final_active_samples} örnek ({percentage_of_data:.1f}%)\")\n",
    "print(f\"Son F1 skoru (Aktif Öğrenme): {active_performance_history[-1]:.4f}\")\n",
    "print(f\"Son F1 skoru (Rastgele Örnekleme): {random_performance_history[-1]:.4f}\")\n",
    "print(f\"Son Hamming Loss (Aktif Öğrenme): {active_hamming_history[-1]:.4f}\")\n",
    "print(f\"Son Hamming Loss (Rastgele Örnekleme): {random_hamming_history[-1]:.4f}\")\n",
    "print(f\"Tam Veri ile RandomForest F1 skoru: {full_rf_f1:.4f}\")\n",
    "print(f\"Aktif Öğrenmenin tam veriye göre performans artışı: {(active_performance_history[-1]/full_rf_f1*100)-100:.1f}%\")\n",
    "\n",
    "# Tek etiketli ve çok etiketli örneklerdeki başarıyı karşılaştır\n",
    "etiket_sayilari_test = y_test.sum(axis=1)\n",
    "tek_etiketli_idx = np.where(etiket_sayilari_test == 1)[0]\n",
    "cok_etiketli_idx = np.where(etiket_sayilari_test > 1)[0]\n",
    "\n",
    "active_preds = model.predict(X_test_array)\n",
    "random_preds = random_model.predict(X_test_array)\n",
    "\n",
    "# Tek etiketli örneklerde performans\n",
    "active_tek_f1 = f1_score(y_test[tek_etiketli_idx], active_preds[tek_etiketli_idx], average='micro')\n",
    "random_tek_f1 = f1_score(y_test[tek_etiketli_idx], random_preds[tek_etiketli_idx], average='micro')\n",
    "\n",
    "# Çok etiketli örneklerde performans\n",
    "active_cok_f1 = f1_score(y_test[cok_etiketli_idx], active_preds[cok_etiketli_idx], average='micro')\n",
    "random_cok_f1 = f1_score(y_test[cok_etiketli_idx], random_preds[cok_etiketli_idx], average='micro')\n",
    "\n",
    "print(\"\\n----- ETİKET SAYISINA GÖRE PERFORMANS -----\")\n",
    "print(f\"Tek etiketli örneklerde F1 (Aktif): {active_tek_f1:.4f}\")\n",
    "print(f\"Tek etiketli örneklerde F1 (Rastgele): {random_tek_f1:.4f}\")\n",
    "print(f\"Çok etiketli örneklerde F1 (Aktif): {active_cok_f1:.4f}\")\n",
    "print(f\"Çok etiketli örneklerde F1 (Rastgele): {random_cok_f1:.4f}\")"
   ]
  },
  {
   "cell_type": "code",
   "execution_count": 19,
   "id": "b965098b",
   "metadata": {},
   "outputs": [
    {
     "name": "stdout",
     "output_type": "stream",
     "text": [
      "\n",
      "----- ETİKET BAZINDA PERFORMANS -----\n",
      "En iyi performans gösteren 5 etiket:\n",
      "  ruby-on-rails: 0.7040\n",
      "  ios: 0.7143\n",
      "  android: 0.7413\n",
      "  php: 0.7504\n",
      "  python: 0.8031\n",
      "\n",
      "En kötü performans gösteren 5 etiket:\n",
      "  .net: 0.1695\n",
      "  iphone: 0.4685\n",
      "  c: 0.4690\n",
      "  html: 0.4883\n",
      "  asp.net: 0.4925\n"
     ]
    },
    {
     "data": {
      "text/plain": [
       "<Figure size 1000x600 with 0 Axes>"
      ]
     },
     "metadata": {},
     "output_type": "display_data"
    }
   ],
   "source": [
    "# Etiket sayısına göre performansı görselleştir\n",
    "plt.figure(figsize=(10, 6))\n",
    "labels = ['Tek Etiketli', 'Çok Etiketli']\n",
    "active_scores = [active_tek_f1, active_cok_f1]\n",
    "random_scores = [random_tek_f1, random_cok_f1]\n",
    "\n",
    "x = np.arange(len(labels))\n",
    "width = 0.35\n",
    "\n",
    "fig, ax = plt.subplots(figsize=(10, 6))\n",
    "rects1 = ax.bar(x - width/2, active_scores, width, label='Aktif Öğrenme')\n",
    "rects2 = ax.bar(x + width/2, random_scores, width, label='Rastgele Örnekleme')\n",
    "\n",
    "ax.set_ylabel('F1 Skoru')\n",
    "ax.set_title('Etiket Sayısına Göre F1 Skoru Karşılaştırması')\n",
    "ax.set_xticks(x)\n",
    "ax.set_xticklabels(labels)\n",
    "ax.legend()\n",
    "\n",
    "# Çubukların üzerine değerleri yaz\n",
    "def autolabel(rects):\n",
    "    for rect in rects:\n",
    "        height = rect.get_height()\n",
    "        ax.annotate(f'{height:.4f}',\n",
    "                    xy=(rect.get_x() + rect.get_width()/2, height),\n",
    "                    xytext=(0, 3),  # 3 points vertical offset\n",
    "                    textcoords=\"offset points\",\n",
    "                    ha='center', va='bottom')\n",
    "\n",
    "autolabel(rects1)\n",
    "autolabel(rects2)\n",
    "\n",
    "fig.tight_layout()\n",
    "plt.savefig(os.path.join(images_dir, 'etiket_sayisi_performans.png'))\n",
    "plt.close()\n",
    "\n",
    "# Etiket bazında performans analizi\n",
    "tag_f1_scores = []\n",
    "tag_names = []\n",
    "\n",
    "for i, tag in enumerate(tag_columns):\n",
    "    # Sadece test setinde yeterli örneği olan etiketleri analiz et\n",
    "    if np.sum(y_test[:, i]) >= 10:\n",
    "        tag_f1 = f1_score(y_test[:, i], active_preds[:, i])\n",
    "        tag_f1_scores.append(tag_f1)\n",
    "        tag_names.append(tag.replace('tag_', ''))\n",
    "\n",
    "# En iyi ve en kötü performans gösteren etiketleri bul\n",
    "sorted_idx = np.argsort(tag_f1_scores)\n",
    "worst_tags = [tag_names[i] for i in sorted_idx[:5]]\n",
    "worst_scores = [tag_f1_scores[i] for i in sorted_idx[:5]]\n",
    "best_tags = [tag_names[i] for i in sorted_idx[-5:]]\n",
    "best_scores = [tag_f1_scores[i] for i in sorted_idx[-5:]]\n",
    "\n",
    "print(\"\\n----- ETİKET BAZINDA PERFORMANS -----\")\n",
    "print(\"En iyi performans gösteren 5 etiket:\")\n",
    "for tag, score in zip(best_tags, best_scores):\n",
    "    print(f\"  {tag}: {score:.4f}\")\n",
    "\n",
    "print(\"\\nEn kötü performans gösteren 5 etiket:\")\n",
    "for tag, score in zip(worst_tags, worst_scores):\n",
    "    print(f\"  {tag}: {score:.4f}\")\n",
    "\n",
    "# En iyi ve en kötü etiketlerin performansını görselleştir\n",
    "plt.figure(figsize=(14, 8))\n",
    "\n",
    "plt.subplot(1, 2, 1)\n",
    "plt.barh(best_tags, best_scores, color='green')\n",
    "plt.xlabel('F1 Skoru')\n",
    "plt.title('En İyi Performans Gösteren 5 Etiket')\n",
    "plt.xlim(0, 1)\n",
    "plt.grid(axis='x')\n",
    "\n",
    "plt.subplot(1, 2, 2)\n",
    "plt.barh(worst_tags, worst_scores, color='red')\n",
    "plt.xlabel('F1 Skoru')\n",
    "plt.title('En Kötü Performans Gösteren 5 Etiket')\n",
    "plt.xlim(0, 1)\n",
    "plt.grid(axis='x')\n",
    "\n",
    "plt.tight_layout()\n",
    "plt.savefig(os.path.join(images_dir, 'en_iyi_en_kotu_etiketler.png'))\n",
    "plt.close()\n",
    "\n",
    "# Öğrenme eğrisini daha detaylı görselleştir\n",
    "plt.figure(figsize=(15, 10))\n",
    "\n",
    "# Eksen 1: F1 Skoru\n",
    "ax1 = plt.subplot(2, 1, 1)\n",
    "ax1.plot(range(n_queries + 1), active_performance_history, 'b-', marker='o', label='Aktif Öğrenme')\n",
    "ax1.plot(range(n_queries + 1), random_performance_history, 'r--', marker='x', label='Rastgele Örnekleme')\n",
    "ax1.set_ylabel('F1 Skoru (micro)')\n",
    "ax1.set_title('Öğrenme Eğrisi - F1 Skoru')\n",
    "ax1.legend()\n",
    "ax1.grid(True)\n",
    "\n",
    "# Eksen 2: Hamming Loss\n",
    "ax2 = plt.subplot(2, 1, 2)\n",
    "ax2.plot(range(n_queries + 1), active_hamming_history, 'b-', marker='o', label='Aktif Öğrenme')\n",
    "ax2.plot(range(n_queries + 1), random_hamming_history, 'r--', marker='x', label='Rastgele Örnekleme')\n",
    "ax2.set_xlabel('Öğrenme Turu')\n",
    "ax2.set_ylabel('Hamming Loss')\n",
    "ax2.set_title('Öğrenme Eğrisi - Hamming Loss')\n",
    "ax2.legend()\n",
    "ax2.grid(True)\n",
    "\n",
    "plt.tight_layout()\n",
    "plt.savefig(os.path.join(images_dir, 'ogrenme_egrisi_detayli.png'))\n",
    "plt.close()\n",
    "\n",
    "# İstenen örnek sayısına göre öğrenme eğrisi\n",
    "ornek_sayilari = [n_initial + i * n_samples_per_query for i in range(n_queries + 1)]\n",
    "\n",
    "plt.figure(figsize=(12, 8))\n",
    "plt.plot(ornek_sayilari, active_performance_history, 'b-', marker='o', label='Aktif Öğrenme')\n",
    "plt.plot(ornek_sayilari, random_performance_history, 'r--', marker='x', label='Rastgele Örnekleme')\n",
    "plt.xlabel('Etiketli Örnek Sayısı')\n",
    "plt.ylabel('F1 Skoru (micro)')\n",
    "plt.title('Örnek Sayısına Göre Performans Karşılaştırması')\n",
    "plt.legend()\n",
    "plt.grid(True)\n",
    "plt.savefig(os.path.join(images_dir, 'ornek_sayisi_performans.png'))\n",
    "plt.close()\n"
   ]
  },
  {
   "cell_type": "code",
   "execution_count": 20,
   "id": "10799a8e",
   "metadata": {},
   "outputs": [
    {
     "name": "stdout",
     "output_type": "stream",
     "text": [
      "\n",
      "Tüm işlemler tamamlandı. Sonuçlar ve grafikler 'active_learning_results' dizininde kaydedildi.\n"
     ]
    }
   ],
   "source": [
    "# Özet bilgiler dosyası\n",
    "with open(os.path.join(output_dir, 'ozet_rapor.txt'), 'w', encoding='utf-8') as f:\n",
    "    f.write(\"ACTIVE LEARNING - ÖZET RAPOR\\n\")\n",
    "    f.write(\"===========================\\n\\n\")\n",
    "    \n",
    "    f.write(f\"Toplam eğitim seti: {len(X_train_text)} örnek\\n\")\n",
    "    f.write(f\"Aktif öğrenmede kullanılan örnek sayısı: {final_active_samples} örnek ({percentage_of_data:.1f}%)\\n\")\n",
    "    f.write(f\"Test seti: {len(X_test_text)} örnek\\n\\n\")\n",
    "    \n",
    "    f.write(\"PERFORMANS METRİKLERİ\\n\")\n",
    "    f.write(\"--------------------\\n\")\n",
    "    f.write(f\"Son F1 skoru (Aktif Öğrenme): {active_performance_history[-1]:.4f}\\n\")\n",
    "    f.write(f\"Son F1 skoru (Rastgele Örnekleme): {random_performance_history[-1]:.4f}\\n\")\n",
    "    f.write(f\"Fark: {active_performance_history[-1] - random_performance_history[-1]:.4f}\\n\\n\")\n",
    "    \n",
    "    f.write(f\"Son Hamming Loss (Aktif Öğrenme): {active_hamming_history[-1]:.4f}\\n\")\n",
    "    f.write(f\"Son Hamming Loss (Rastgele Örnekleme): {random_hamming_history[-1]:.4f}\\n\")\n",
    "    f.write(f\"Fark: {random_hamming_history[-1] - active_hamming_history[-1]:.4f}\\n\\n\")\n",
    "    \n",
    "    f.write(f\"Tam Veri ile RandomForest F1 skoru: {full_rf_f1:.4f}\\n\")\n",
    "    f.write(f\"Aktif Öğrenmenin tam veriye göre performans oranı: {(active_performance_history[-1]/full_rf_f1*100):.1f}%\\n\\n\")\n",
    "    \n",
    "    f.write(\"ETİKET SAYISINA GÖRE PERFORMANS\\n\")\n",
    "    f.write(\"-----------------------------\\n\")\n",
    "    f.write(f\"Tek etiketli örneklerde F1 (Aktif): {active_tek_f1:.4f}\\n\")\n",
    "    f.write(f\"Tek etiketli örneklerde F1 (Rastgele): {random_tek_f1:.4f}\\n\")\n",
    "    f.write(f\"Çok etiketli örneklerde F1 (Aktif): {active_cok_f1:.4f}\\n\")\n",
    "    f.write(f\"Çok etiketli örneklerde F1 (Rastgele): {random_cok_f1:.4f}\\n\\n\")\n",
    "    \n",
    "    f.write(\"EN İYİ PERFORMANS GÖSTEREN 5 ETİKET\\n\")\n",
    "    f.write(\"-------------------------------\\n\")\n",
    "    for tag, score in zip(best_tags, best_scores):\n",
    "        f.write(f\"  {tag}: {score:.4f}\\n\")\n",
    "    \n",
    "    f.write(\"\\nEN KÖTÜ PERFORMANS GÖSTEREN 5 ETİKET\\n\")\n",
    "    f.write(\"--------------------------------\\n\")\n",
    "    for tag, score in zip(worst_tags, worst_scores):\n",
    "        f.write(f\"  {tag}: {score:.4f}\\n\")\n",
    "    \n",
    "    f.write(\"\\nZAMAN METRİKLERİ\\n\")\n",
    "    f.write(\"--------------\\n\")\n",
    "    f.write(f\"Ortalama eğitim süresi (Aktif): {np.mean(times_history['active_train']):.2f} saniye\\n\")\n",
    "    f.write(f\"Ortalama eğitim süresi (Rastgele): {np.mean(times_history['random_train']):.2f} saniye\\n\")\n",
    "    f.write(f\"Ortalama tahmin süresi (Aktif): {np.mean(times_history['active_predict']):.2f} saniye\\n\")\n",
    "    f.write(f\"Ortalama tahmin süresi (Rastgele): {np.mean(times_history['random_predict']):.2f} saniye\\n\")\n",
    "\n",
    "print(\"\\nTüm işlemler tamamlandı. Sonuçlar ve grafikler 'active_learning_results' dizininde kaydedildi.\")"
   ]
  },
  {
   "cell_type": "code",
   "execution_count": null,
   "id": "138dc89d",
   "metadata": {},
   "outputs": [],
   "source": []
  }
 ],
 "metadata": {
  "kernelspec": {
   "display_name": "Python 3",
   "language": "python",
   "name": "python3"
  },
  "language_info": {
   "codemirror_mode": {
    "name": "ipython",
    "version": 3
   },
   "file_extension": ".py",
   "mimetype": "text/x-python",
   "name": "python",
   "nbconvert_exporter": "python",
   "pygments_lexer": "ipython3",
   "version": "3.12.6"
  }
 },
 "nbformat": 4,
 "nbformat_minor": 5
}
