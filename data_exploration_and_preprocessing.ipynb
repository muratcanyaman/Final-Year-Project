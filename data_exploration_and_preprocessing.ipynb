{
 "cells": [
  {
   "cell_type": "code",
   "execution_count": 28,
   "id": "ad41fe2b",
   "metadata": {},
   "outputs": [],
   "source": [
    "import pandas as pd\n",
    "import numpy as np\n",
    "import re\n",
    "from bs4 import BeautifulSoup\n",
    "import nltk\n",
    "from nltk.corpus import stopwords\n",
    "from nltk.tokenize import word_tokenize\n",
    "import matplotlib.pyplot as plt\n",
    "import seaborn as sns\n",
    "from tqdm import tqdm\n",
    "import os"
   ]
  },
  {
   "cell_type": "code",
   "execution_count": 29,
   "id": "93ee9272",
   "metadata": {},
   "outputs": [
    {
     "name": "stderr",
     "output_type": "stream",
     "text": [
      "[nltk_data] Downloading package stopwords to\n",
      "[nltk_data]     C:\\Users\\DangerClose\\AppData\\Roaming\\nltk_data...\n",
      "[nltk_data]   Package stopwords is already up-to-date!\n",
      "[nltk_data] Downloading package punkt to\n",
      "[nltk_data]     C:\\Users\\DangerClose\\AppData\\Roaming\\nltk_data...\n",
      "[nltk_data]   Package punkt is already up-to-date!\n"
     ]
    },
    {
     "data": {
      "text/plain": [
       "True"
      ]
     },
     "execution_count": 29,
     "metadata": {},
     "output_type": "execute_result"
    }
   ],
   "source": [
    "# NLTK kaynaklarını indir\n",
    "nltk.download('stopwords')\n",
    "nltk.download('punkt')"
   ]
  },
  {
   "cell_type": "code",
   "execution_count": 31,
   "id": "123653e8",
   "metadata": {},
   "outputs": [
    {
     "name": "stdout",
     "output_type": "stream",
     "text": [
      "Veri setleri yükleniyor...\n",
      "Questions veri seti: 1264216 satır, 7 sütun\n",
      "Answers veri seti: 2014516 satır, 6 sütun\n",
      "Tags veri seti: 3750994 satır, 2 sütun\n"
     ]
    }
   ],
   "source": [
    "# 1. Veri setlerini yükle\n",
    "print(\"Veri setleri yükleniyor...\")\n",
    "questions_df = pd.read_csv('C:\\\\Users\\\\DangerClose\\\\Desktop\\\\Stack Overflow Q&A\\\\Questions.csv', encoding='iso-8859-1')\n",
    "answers_df = pd.read_csv('C:\\\\Users\\\\DangerClose\\\\Desktop\\\\Stack Overflow Q&A\\\\Answers.csv', encoding='iso-8859-1')\n",
    "tags_df = pd.read_csv('C:\\\\Users\\\\DangerClose\\\\Desktop\\\\Stack Overflow Q&A\\\\Tags.csv', encoding='iso-8859-1')\n",
    "\n",
    "print(f\"Questions veri seti: {questions_df.shape[0]} satır, {questions_df.shape[1]} sütun\")\n",
    "print(f\"Answers veri seti: {answers_df.shape[0]} satır, {answers_df.shape[1]} sütun\")\n",
    "print(f\"Tags veri seti: {tags_df.shape[0]} satır, {tags_df.shape[1]} sütun\")"
   ]
  },
  {
   "cell_type": "code",
   "execution_count": 32,
   "id": "cc577b06",
   "metadata": {},
   "outputs": [],
   "source": [
    "# 2. Veri örnekleme (hızlı test için)\n",
    "sample_size = 20000  # Örneklem boyutu\n",
    "random_state = 42    # Tekrarlanabilirlik için"
   ]
  },
  {
   "cell_type": "code",
   "execution_count": 33,
   "id": "62871691",
   "metadata": {},
   "outputs": [
    {
     "name": "stdout",
     "output_type": "stream",
     "text": [
      "Sorular örneklem boyutu: 20000\n"
     ]
    }
   ],
   "source": [
    "# İlk olarak sorular örneklemi oluştur\n",
    "questions_sample = questions_df.sample(sample_size, random_state=random_state)\n",
    "print(f\"Sorular örneklem boyutu: {questions_sample.shape[0]}\")"
   ]
  },
  {
   "cell_type": "code",
   "execution_count": 34,
   "id": "35bb9d73",
   "metadata": {},
   "outputs": [
    {
     "name": "stdout",
     "output_type": "stream",
     "text": [
      "İlişkili cevap sayısı: 31650\n"
     ]
    }
   ],
   "source": [
    "# Bu sorulara ait cevapları bul\n",
    "related_answers = answers_df[answers_df['ParentId'].isin(questions_sample['Id'])]\n",
    "print(f\"İlişkili cevap sayısı: {len(related_answers)}\")"
   ]
  },
  {
   "cell_type": "code",
   "execution_count": 35,
   "id": "436a42bd",
   "metadata": {},
   "outputs": [
    {
     "name": "stdout",
     "output_type": "stream",
     "text": [
      "İlişkili etiket sayısı: 59430\n"
     ]
    }
   ],
   "source": [
    "# Bu sorulara ait etiketleri bul\n",
    "related_tags = tags_df[tags_df['Id'].isin(questions_sample['Id'])]\n",
    "print(f\"İlişkili etiket sayısı: {len(related_tags)}\")"
   ]
  },
  {
   "cell_type": "code",
   "execution_count": 36,
   "id": "557d8604",
   "metadata": {},
   "outputs": [],
   "source": [
    "# 3. Basit ve sağlam temizleme fonksiyonları\n",
    "def clean_html_text(text):\n",
    "    \"\"\"HTML etiketlerini kaldır ve metni temizle\"\"\"\n",
    "    if not isinstance(text, str):\n",
    "        return \"\"\n",
    "    \n",
    "    try:\n",
    "        # HTML temizleme\n",
    "        soup = BeautifulSoup(text, \"html.parser\")\n",
    "        clean_text = soup.get_text()\n",
    "        \n",
    "        # Gereksiz boşlukları temizle\n",
    "        clean_text = re.sub(r'\\s+', ' ', clean_text).strip()\n",
    "        \n",
    "        return clean_text\n",
    "    except:\n",
    "        return str(text)"
   ]
  },
  {
   "cell_type": "code",
   "execution_count": 37,
   "id": "4ac7e202",
   "metadata": {},
   "outputs": [],
   "source": [
    "def preprocess_text(text):\n",
    "    \"\"\"Metni tokenize et, stop words kaldır ve küçük harfe çevir\"\"\"\n",
    "    if not isinstance(text, str) or text.strip() == \"\":\n",
    "        return \"\"\n",
    "    \n",
    "    # Küçük harfe çevir\n",
    "    text = text.lower()\n",
    "    \n",
    "    # Tokenize et\n",
    "    try:\n",
    "        tokens = word_tokenize(text)\n",
    "    except:\n",
    "        tokens = text.split()  # word_tokenize başarısız olursa basit split kullan\n",
    "        \n",
    "    # Stop words kaldır\n",
    "    stop_words = set(stopwords.words('english'))\n",
    "    tokens = [word for word in tokens if word not in stop_words and len(word) > 2]\n",
    "    \n",
    "    # Alfanumerik olmayan karakterleri filtreleme\n",
    "    tokens = [re.sub(r'[^a-zA-Z0-9]', '', word) for word in tokens]\n",
    "    tokens = [word for word in tokens if word]  # Boş stringleri kaldır\n",
    "    \n",
    "    return \" \".join(tokens)"
   ]
  },
  {
   "cell_type": "code",
   "execution_count": 38,
   "id": "3d22b652",
   "metadata": {},
   "outputs": [
    {
     "name": "stdout",
     "output_type": "stream",
     "text": [
      "\n",
      "Temizleme işlemi test ediliyor...\n",
      "Soru ID: 17016800\n",
      "Orijinal başlık: Handling the EditText send keyboard event for Android API16\n",
      "Temizlenmiş başlık: Handling the EditText send keyboard event for Android API16\n",
      "İşlenmiş başlık: handling edittext send keyboard event android api16\n",
      "Orijinal içerik (ilk 100 karakter): <pre><code>import com.example.methanegaszonegeolocater.R;\n",
      "import com.google.android.gms.maps.CameraU...\n",
      "\n",
      "Cevap ID: 2382\n",
      "İlişkili Soru ID: 2120\n",
      "Orijinal içerik (ilk 100 karakter): <p>I have found the solution else where:</p>\n",
      "\n",
      "<pre><code>SELECT SUBSTRING(master.dbo.fn_varbintohe...\n",
      "Temizlenmiş içerik: I have found the solution else where: SELECT SUBSTRING(master.dbo.fn_varbintohexstr(HashBytes('MD5',...\n",
      "İşlenmiş içerik: found solution else where select substringmasterdbofnvarbintohexstrhashbytesmd5 helloworld 32...\n"
     ]
    }
   ],
   "source": [
    "# 4. Örnek bir kaç satır üzerinde kontrol\n",
    "print(\"\\nTemizleme işlemi test ediliyor...\")\n",
    "# Bir soru örneği\n",
    "sample_question = questions_sample.iloc[0]\n",
    "print(f\"Soru ID: {sample_question['Id']}\")\n",
    "print(f\"Orijinal başlık: {sample_question['Title']}\")\n",
    "print(f\"Temizlenmiş başlık: {clean_html_text(sample_question['Title'])}\")\n",
    "print(f\"İşlenmiş başlık: {preprocess_text(clean_html_text(sample_question['Title']))}\")\n",
    "print(f\"Orijinal içerik (ilk 100 karakter): {sample_question['Body'][:100]}...\")\n",
    "\n",
    "# Bir cevap örneği\n",
    "if len(related_answers) > 0:\n",
    "    sample_answer = related_answers.iloc[0]\n",
    "    print(f\"\\nCevap ID: {sample_answer['Id']}\")\n",
    "    print(f\"İlişkili Soru ID: {sample_answer['ParentId']}\")\n",
    "    print(f\"Orijinal içerik (ilk 100 karakter): {sample_answer['Body'][:100]}...\")\n",
    "    print(f\"Temizlenmiş içerik: {clean_html_text(sample_answer['Body'])[:100]}...\")\n",
    "    print(f\"İşlenmiş içerik: {preprocess_text(clean_html_text(sample_answer['Body']))[:100]}...\")"
   ]
  },
  {
   "cell_type": "code",
   "execution_count": 39,
   "id": "9d42a315",
   "metadata": {},
   "outputs": [
    {
     "name": "stdout",
     "output_type": "stream",
     "text": [
      "\n",
      "5. Sorular tablosu temizleniyor...\n"
     ]
    },
    {
     "name": "stderr",
     "output_type": "stream",
     "text": [
      "Başlıklar temizleniyor:   0%|          | 0/20000 [00:00<?, ?it/s]C:\\Users\\DangerClose\\AppData\\Local\\Temp\\ipykernel_19780\\2793261210.py:9: MarkupResemblesLocatorWarning: The input looks more like a filename than markup. You may want to open this file and pass the filehandle into Beautiful Soup.\n",
      "  soup = BeautifulSoup(text, \"html.parser\")\n",
      "Başlıklar temizleniyor: 100%|██████████| 20000/20000 [00:00<00:00, 28567.93it/s]\n",
      "Başlıklar temizleniyor: 100%|██████████| 20000/20000 [00:27<00:00, 730.52it/s]\n",
      "İçerikler temizleniyor: 100%|██████████| 20000/20000 [00:06<00:00, 3054.04it/s]\n",
      "İçerikler temizleniyor: 100%|██████████| 20000/20000 [00:29<00:00, 675.37it/s]\n"
     ]
    }
   ],
   "source": [
    "# 5. Sorular tablosunu temizle\n",
    "print(\"\\n5. Sorular tablosu temizleniyor...\")\n",
    "tqdm.pandas(desc=\"Başlıklar temizleniyor\")\n",
    "questions_sample['clean_title'] = questions_sample['Title'].progress_apply(clean_html_text)\n",
    "questions_sample['processed_title'] = questions_sample['clean_title'].progress_apply(preprocess_text)\n",
    "\n",
    "tqdm.pandas(desc=\"İçerikler temizleniyor\")\n",
    "questions_sample['clean_body'] = questions_sample['Body'].progress_apply(clean_html_text)\n",
    "questions_sample['processed_body'] = questions_sample['clean_body'].progress_apply(preprocess_text)"
   ]
  },
  {
   "cell_type": "code",
   "execution_count": 41,
   "id": "ee6d502a",
   "metadata": {},
   "outputs": [
    {
     "name": "stdout",
     "output_type": "stream",
     "text": [
      "\n",
      "6. Cevaplar tablosu temizleniyor...\n"
     ]
    },
    {
     "name": "stderr",
     "output_type": "stream",
     "text": [
      "Cevaplar temizleniyor:   0%|          | 0/31650 [00:00<?, ?it/s]"
     ]
    },
    {
     "name": "stderr",
     "output_type": "stream",
     "text": [
      "Cevaplar temizleniyor: 100%|██████████| 31650/31650 [00:07<00:00, 4002.11it/s]\n",
      "Cevaplar temizleniyor: 100%|██████████| 31650/31650 [00:44<00:00, 703.36it/s]\n"
     ]
    }
   ],
   "source": [
    "# 6. Cevaplar tablosunu temizle\n",
    "print(\"\\n6. Cevaplar tablosu temizleniyor...\")\n",
    "# Açık bir kopya oluştur\n",
    "related_answers = related_answers.copy()\n",
    "\n",
    "tqdm.pandas(desc=\"Cevaplar temizleniyor\")\n",
    "related_answers['clean_body'] = related_answers['Body'].progress_apply(clean_html_text)\n",
    "related_answers['processed_body'] = related_answers['clean_body'].progress_apply(preprocess_text)"
   ]
  },
  {
   "cell_type": "code",
   "execution_count": 42,
   "id": "5b491c67",
   "metadata": {},
   "outputs": [
    {
     "name": "stdout",
     "output_type": "stream",
     "text": [
      "\n",
      "7. Cevaplar soruya göre gruplanıyor...\n"
     ]
    }
   ],
   "source": [
    "# 7. Cevapları soruya göre grupla\n",
    "print(\"\\n7. Cevaplar soruya göre gruplanıyor...\")\n",
    "answer_groups = related_answers.groupby('ParentId')['processed_body'].apply(' '.join).reset_index()\n",
    "answer_groups.rename(columns={'ParentId': 'Id', 'processed_body': 'answers_text'}, inplace=True)\n"
   ]
  },
  {
   "cell_type": "code",
   "execution_count": 43,
   "id": "7c819204",
   "metadata": {},
   "outputs": [
    {
     "name": "stdout",
     "output_type": "stream",
     "text": [
      "\n",
      "8. Etiketler soruya göre gruplanıyor...\n"
     ]
    }
   ],
   "source": [
    "# 8. Etiketleri grupla\n",
    "print(\"\\n8. Etiketler soruya göre gruplanıyor...\")\n",
    "tag_groups = related_tags.groupby('Id')['Tag'].apply(list).reset_index()"
   ]
  },
  {
   "cell_type": "code",
   "execution_count": 44,
   "id": "db632c2d",
   "metadata": {},
   "outputs": [
    {
     "name": "stdout",
     "output_type": "stream",
     "text": [
      "\n",
      "9. Tüm veriler birleştiriliyor...\n"
     ]
    }
   ],
   "source": [
    "# 9. Tüm verileri birleştir\n",
    "print(\"\\n9. Tüm veriler birleştiriliyor...\")\n",
    "# Önce sorular ve etiketleri birleştir\n",
    "questions_with_tags = questions_sample.merge(tag_groups, on='Id', how='left')\n",
    "questions_with_tags['Tag'] = questions_with_tags['Tag'].fillna('').apply(lambda x: x if isinstance(x, list) else [])"
   ]
  },
  {
   "cell_type": "code",
   "execution_count": 45,
   "id": "e045ef59",
   "metadata": {},
   "outputs": [],
   "source": [
    "# Sonra cevapları ekle\n",
    "full_dataset = questions_with_tags.merge(answer_groups, on='Id', how='left')\n",
    "full_dataset['answers_text'] = full_dataset['answers_text'].fillna('')\n"
   ]
  },
  {
   "cell_type": "code",
   "execution_count": 46,
   "id": "99ef87bb",
   "metadata": {},
   "outputs": [
    {
     "name": "stdout",
     "output_type": "stream",
     "text": [
      "\n",
      "10. Tam metinler oluşturuluyor...\n"
     ]
    }
   ],
   "source": [
    "# 10. Tam metin oluştur\n",
    "print(\"\\n10. Tam metinler oluşturuluyor...\")\n",
    "full_dataset['question_text'] = full_dataset['processed_title'] + ' ' + full_dataset['processed_body']\n",
    "full_dataset['complete_text'] = full_dataset['question_text'] + ' ' + full_dataset['answers_text']"
   ]
  },
  {
   "cell_type": "code",
   "execution_count": 47,
   "id": "5ebe9170",
   "metadata": {},
   "outputs": [
    {
     "name": "stdout",
     "output_type": "stream",
     "text": [
      "Soru metinlerinde boş olanlar: 0\n",
      "Tam metinlerde boş olanlar: 0\n"
     ]
    }
   ],
   "source": [
    "# Boş metin kontrolü\n",
    "print(f\"Soru metinlerinde boş olanlar: {(full_dataset['question_text'].str.strip() == '').sum()}\")\n",
    "print(f\"Tam metinlerde boş olanlar: {(full_dataset['complete_text'].str.strip() == '').sum()}\")"
   ]
  },
  {
   "cell_type": "code",
   "execution_count": 48,
   "id": "7d36300d",
   "metadata": {},
   "outputs": [
    {
     "name": "stdout",
     "output_type": "stream",
     "text": [
      "\n",
      "11. En popüler etiketler bulunuyor...\n",
      "Toplam benzersiz etiket sayısı: 37034\n"
     ]
    }
   ],
   "source": [
    "# 11. En popüler etiketleri bul\n",
    "print(\"\\n11. En popüler etiketler bulunuyor...\")\n",
    "tag_counts = tags_df['Tag'].value_counts()\n",
    "print(f\"Toplam benzersiz etiket sayısı: {len(tag_counts)}\")\n"
   ]
  },
  {
   "cell_type": "code",
   "execution_count": 49,
   "id": "4bb667b8",
   "metadata": {},
   "outputs": [
    {
     "name": "stdout",
     "output_type": "stream",
     "text": [
      "En popüler 20 etiket: ['javascript', 'java', 'c#', 'php', 'android', 'jquery', 'python', 'html', 'c++', 'ios', 'mysql', 'css', 'sql', 'asp.net', 'objective-c', 'ruby-on-rails', '.net', 'c', 'iphone', 'angularjs']\n"
     ]
    }
   ],
   "source": [
    "# En popüler N etiketi seç\n",
    "top_n = 20\n",
    "popular_tags = tag_counts.head(top_n).index.tolist()\n",
    "print(f\"En popüler {top_n} etiket: {popular_tags}\")\n"
   ]
  },
  {
   "cell_type": "code",
   "execution_count": 50,
   "id": "4147f151",
   "metadata": {},
   "outputs": [
    {
     "name": "stdout",
     "output_type": "stream",
     "text": [
      "\n",
      "12. Etiketler one-hot encoding yapılıyor...\n"
     ]
    }
   ],
   "source": [
    "# 12. One-hot encoding\n",
    "print(\"\\n12. Etiketler one-hot encoding yapılıyor...\")\n",
    "for tag in popular_tags:\n",
    "    full_dataset[f'tag_{tag}'] = full_dataset['Tag'].apply(lambda x: 1 if tag in x else 0)"
   ]
  },
  {
   "cell_type": "code",
   "execution_count": 51,
   "id": "fcd074e1",
   "metadata": {},
   "outputs": [
    {
     "name": "stdout",
     "output_type": "stream",
     "text": [
      "\n",
      "13. İşlenmiş veri kaydediliyor...\n",
      "İşlenmiş veri kaydedildi: C:\\\\Users\\\\DangerClose\\\\Desktop\\\\Stack Overflow Q&A\\\\model_ready_sample.csv\n"
     ]
    }
   ],
   "source": [
    "# 13. İşlenmiş veriyi kaydet\n",
    "print(\"\\n13. İşlenmiş veri kaydediliyor...\")\n",
    "output_dir = r\"C:\\\\Users\\\\DangerClose\\\\Desktop\\\\Stack Overflow Q&A\\\\\"\n",
    "os.makedirs(output_dir, exist_ok=True)\n",
    "output_path = os.path.join(output_dir, 'model_ready_sample.csv')\n",
    "full_dataset.to_csv(output_path, index=False, encoding='utf-8')\n",
    "print(f\"İşlenmiş veri kaydedildi: {output_path}\")"
   ]
  },
  {
   "cell_type": "code",
   "execution_count": 55,
   "id": "2fa8cbfb",
   "metadata": {},
   "outputs": [
    {
     "name": "stdout",
     "output_type": "stream",
     "text": [
      "\n",
      "14. Etiket dağılımı görselleştiriliyor...\n"
     ]
    },
    {
     "data": {
      "image/png": "[encoded data removed]",
      "text/plain": [
       "<Figure size 1200x600 with 1 Axes>"
      ]
     },
     "metadata": {},
     "output_type": "display_data"
    }
   ],
   "source": [
    "# 14. Etiket dağılımını görselleştir\n",
    "print(\"\\n14. Etiket dağılımı görselleştiriliyor...\")\n",
    "plt.figure(figsize=(12, 6))\n",
    "tag_count_in_sample = full_dataset[['tag_' + tag for tag in popular_tags]].sum().sort_values(ascending=False)\n",
    "sns.barplot(x=tag_count_in_sample.index.str.replace('tag_', ''), y=tag_count_in_sample.values)\n",
    "plt.title(f'Örneklemdeki En Popüler {top_n} Etiket')\n",
    "plt.xticks(rotation=45, ha='right')\n",
    "plt.ylabel('Soru Sayısı')\n",
    "plt.tight_layout()\n",
    "plt.savefig(os.path.join(output_dir, 'popular_tags.png'))\n",
    "plt.show()\n",
    "plt.close()"
   ]
  },
  {
   "cell_type": "code",
   "execution_count": 53,
   "id": "fcb2fe54",
   "metadata": {},
   "outputs": [
    {
     "name": "stdout",
     "output_type": "stream",
     "text": [
      "\n",
      "15. Özet bilgiler:\n",
      "Toplam temizlenmiş soru sayısı: 20000\n",
      "Soru başına ortalama etiket sayısı: 2.97\n",
      "Soru başına ortalama kelime sayısı: 167.06\n",
      "En popüler etiket: javascript (1944 soru)\n"
     ]
    }
   ],
   "source": [
    "# 15. Özet bilgiler\n",
    "print(\"\\n15. Özet bilgiler:\")\n",
    "print(f\"Toplam temizlenmiş soru sayısı: {len(full_dataset)}\")\n",
    "print(f\"Soru başına ortalama etiket sayısı: {full_dataset['Tag'].apply(len).mean():.2f}\")\n",
    "print(f\"Soru başına ortalama kelime sayısı: {full_dataset['complete_text'].apply(lambda x: len(x.split())).mean():.2f}\")\n",
    "print(f\"En popüler etiket: {popular_tags[0]} ({full_dataset[f'tag_{popular_tags[0]}'].sum()} soru)\")"
   ]
  },
  {
   "cell_type": "code",
   "execution_count": 54,
   "id": "290a16b9",
   "metadata": {},
   "outputs": [
    {
     "name": "stdout",
     "output_type": "stream",
     "text": [
      "\n",
      "16. Rastgele bir örnek:\n",
      "ID: 26286860\n",
      "Başlık: Trying to load another html page into a div using jQuery. I looked at other posts but mine still isn't working\n",
      "Temizlenmiş başlık: Trying to load another html page into a div using jQuery. I looked at other posts but mine still isn't working\n",
      "İşlenmiş başlık: trying load another html page div using jquery looked posts mine still working\n",
      "Etiketler: ['javascript', 'jquery', 'html', 'load']\n",
      "Tam metin (ilk 200 karakter): trying load another html page div using jquery looked posts mine still working please look edit link fiddle entire code httpjsfiddlenete77aqubx section jquery everything seems working fine trying get ...\n",
      "\n",
      "Temizleme ve ön işleme tamamlandı! Model eğitimine geçebilirsiniz.\n"
     ]
    }
   ],
   "source": [
    "# 16. Rastgele bir örnek göster\n",
    "print(\"\\n16. Rastgele bir örnek:\")\n",
    "random_sample = full_dataset.sample(1).iloc[0]\n",
    "print(f\"ID: {random_sample['Id']}\")\n",
    "print(f\"Başlık: {random_sample['Title']}\")\n",
    "print(f\"Temizlenmiş başlık: {random_sample['clean_title']}\")\n",
    "print(f\"İşlenmiş başlık: {random_sample['processed_title']}\")\n",
    "print(f\"Etiketler: {random_sample['Tag']}\")\n",
    "print(f\"Tam metin (ilk 200 karakter): {random_sample['complete_text'][:200]}...\")\n",
    "\n",
    "print(\"\\nTemizleme ve ön işleme tamamlandı! Model eğitimine geçebilirsiniz.\")"
   ]
  },
  {
   "cell_type": "code",
   "execution_count": null,
   "id": "3fbe05ac",
   "metadata": {},
   "outputs": [],
   "source": []
  }
 ],
 "metadata": {
  "kernelspec": {
   "display_name": "Python 3",
   "language": "python",
   "name": "python3"
  },
  "language_info": {
   "codemirror_mode": {
    "name": "ipython",
    "version": 3
   },
   "file_extension": ".py",
   "mimetype": "text/x-python",
   "name": "python",
   "nbconvert_exporter": "python",
   "pygments_lexer": "ipython3",
   "version": "3.12.6"
  }
 },
 "nbformat": 4,
 "nbformat_minor": 5
}
